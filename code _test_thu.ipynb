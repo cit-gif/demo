{
 "metadata": {
  "language_info": {
   "codemirror_mode": {
    "name": "ipython",
    "version": 3
   },
   "file_extension": ".py",
   "mimetype": "text/x-python",
   "name": "python",
   "nbconvert_exporter": "python",
   "pygments_lexer": "ipython3",
   "version": "3.8.6-final"
  },
  "orig_nbformat": 2,
  "kernelspec": {
   "name": "Python 3.8.6 64-bit",
   "display_name": "Python 3.8.6 64-bit",
   "metadata": {
    "interpreter": {
     "hash": "2db524e06e9f5f4ffedc911c917cb75e12dbc923643829bf417064a77eb14d37"
    }
   }
  }
 },
 "nbformat": 4,
 "nbformat_minor": 2,
 "cells": [
  {
   "cell_type": "code",
   "execution_count": null,
   "metadata": {},
   "outputs": [],
   "source": [
    "import pyttsx3\n",
    "engine = pyttsx3.init()\n",
    "engine.say(\"Hi im ba this my ba\")\n",
    "\n",
    "engine.runAndWait()"
   ]
  },
  {
   "cell_type": "code",
   "execution_count": null,
   "metadata": {
    "tags": []
   },
   "outputs": [],
   "source": [
    "import requests\n",
    "\n",
    "# x = requests.get('https://w3schools.com/',timeout=5)\n",
    "# x = requests.get('https://linhvucmang.000webhostapp.com/',timeout=3)\n",
    "# x = requests.post('https://mobilecity.vn/')\n",
    "print(x.text)"
   ]
  },
  {
   "cell_type": "code",
   "execution_count": null,
   "metadata": {},
   "outputs": [],
   "source": [
    "from http.server import BaseHTTPRequestHandler, HTTPServer\n",
    " \n",
    "# HTTPRequestHandler class\n",
    "class SimpleHTTP(BaseHTTPRequestHandler):\n",
    " \n",
    "  # Nhận GET request gửi lên.\n",
    "  def do_GET(self):\n",
    "        # SET http status trả về\n",
    "        self.send_response(200)\n",
    " \n",
    "        # Thiết lập header trả về\n",
    "        self.send_header('Content-type','text/html')\n",
    "        self.end_headers()\n",
    "        # Data\n",
    "        message = \"Hoc Lap Trinh Tai Toidicode.com\"\n",
    "        message+=\"hehlo mynydhfdfjdsg\"\n",
    "        # Write data dưới dạng utf8\n",
    "        self.wfile.write(bytes(message, \"utf8\"))\n",
    "        return\n",
    "\n",
    "# cấu hình host và cổng port cho server\n",
    "server_address = ('127.0.0.1', 8000)\n",
    "\n",
    "# Khởi tạo server với thông số cấu hình ở trên.\n",
    "httpd = HTTPServer(server_address, SimpleHTTP)\n",
    "\n",
    "# Tiến hành chạy server\n",
    "httpd.serve_forever()"
   ]
  }
 ]
}